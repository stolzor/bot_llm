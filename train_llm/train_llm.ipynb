{
 "cells": [
  {
   "cell_type": "code",
   "execution_count": 1,
   "id": "bf24fd77-d539-4d90-a4a6-e99baa4697fb",
   "metadata": {},
   "outputs": [],
   "source": [
    "import os\n",
    "\n",
    "import pandas as pd\n",
    "import torch\n",
    "from torchinfo import summary\n",
    "from transformers import AutoModelForCausalLM, AutoTokenizer, TrainingArguments, Trainer, DataCollatorForLanguageModeling, LlamaTokenizer\n",
    "from datasets import load_dataset, concatenate_datasets, DatasetDict"
   ]
  },
  {
   "cell_type": "code",
   "execution_count": 21,
   "id": "09c85242-2ada-47a0-954a-7a207dc2ee44",
   "metadata": {},
   "outputs": [
    {
     "data": {
      "application/vnd.jupyter.widget-view+json": {
       "model_id": "30c192e7d0e849eeafda9ea5495d121c",
       "version_major": 2,
       "version_minor": 0
      },
      "text/plain": [
       "VBox(children=(HTML(value='<center> <img\\nsrc=https://huggingface.co/front/assets/huggingface_logo-noborder.sv…"
      ]
     },
     "metadata": {},
     "output_type": "display_data"
    }
   ],
   "source": [
    "from huggingface_hub import notebook_login\n",
    "\n",
    "notebook_login()"
   ]
  },
  {
   "cell_type": "code",
   "execution_count": 2,
   "id": "c7b3928a-b562-42ff-b867-d1bf2faabd1a",
   "metadata": {},
   "outputs": [],
   "source": [
    "llm_model_name = \"acrastt/Marx-3B-V2\"\n",
    "\n",
    "tokenizer = AutoTokenizer.from_pretrained(llm_model_name, padding_side=\"left\", legacy=False)\n",
    "model = AutoModelForCausalLM.from_pretrained(llm_model_name, device_map=\"auto\", torch_dtype=torch.float16)\n",
    "model.tie_weights()\n",
    "\n",
    "MODEL_MAX_LENGTH = 1024"
   ]
  },
  {
   "cell_type": "code",
   "execution_count": 3,
   "id": "818de544-cdcf-4a70-8aec-a288dbeabf0e",
   "metadata": {},
   "outputs": [],
   "source": [
    "for param in model.parameters():\n",
    "  param.requires_grad = False # freeze the model - train adapters later\n",
    "\n",
    "model.gradient_checkpointing_enable() # reduce number of stored activations\n",
    "model.enable_input_require_grads()"
   ]
  },
  {
   "cell_type": "code",
   "execution_count": 4,
   "id": "adf96158-3ddc-4d3b-baa6-25dfe76dbc02",
   "metadata": {},
   "outputs": [
    {
     "data": {
      "text/plain": [
       "LlamaConfig {\n",
       "  \"_name_or_path\": \"acrastt/Marx-3B-V2\",\n",
       "  \"architectures\": [\n",
       "    \"LlamaForCausalLM\"\n",
       "  ],\n",
       "  \"bos_token_id\": 1,\n",
       "  \"eos_token_id\": 2,\n",
       "  \"hidden_act\": \"silu\",\n",
       "  \"hidden_size\": 3200,\n",
       "  \"initializer_range\": 0.02,\n",
       "  \"intermediate_size\": 8640,\n",
       "  \"max_position_embeddings\": 2048,\n",
       "  \"model_type\": \"llama\",\n",
       "  \"num_attention_heads\": 32,\n",
       "  \"num_hidden_layers\": 26,\n",
       "  \"num_key_value_heads\": 32,\n",
       "  \"pad_token_id\": 0,\n",
       "  \"pretraining_tp\": 1,\n",
       "  \"rms_norm_eps\": 1e-06,\n",
       "  \"rope_scaling\": null,\n",
       "  \"rope_theta\": 10000.0,\n",
       "  \"tie_word_embeddings\": false,\n",
       "  \"torch_dtype\": \"float16\",\n",
       "  \"transformers_version\": \"4.33.2\",\n",
       "  \"use_cache\": true,\n",
       "  \"vocab_size\": 32000\n",
       "}"
      ]
     },
     "execution_count": 4,
     "metadata": {},
     "output_type": "execute_result"
    }
   ],
   "source": [
    "model.config"
   ]
  },
  {
   "cell_type": "code",
   "execution_count": 5,
   "id": "b7c0f68d-1e14-47ad-b5af-361eadc91699",
   "metadata": {},
   "outputs": [
    {
     "data": {
      "text/plain": [
       "================================================================================\n",
       "Layer (type:depth-idx)                                  Param #\n",
       "================================================================================\n",
       "LlamaForCausalLM                                        --\n",
       "├─LlamaModel: 1-1                                       --\n",
       "│    └─Embedding: 2-1                                   (102,400,000)\n",
       "│    └─ModuleList: 2-2                                  --\n",
       "│    │    └─LlamaDecoderLayer: 3-1                      (123,910,400)\n",
       "│    │    └─LlamaDecoderLayer: 3-2                      (123,910,400)\n",
       "│    │    └─LlamaDecoderLayer: 3-3                      (123,910,400)\n",
       "│    │    └─LlamaDecoderLayer: 3-4                      (123,910,400)\n",
       "│    │    └─LlamaDecoderLayer: 3-5                      (123,910,400)\n",
       "│    │    └─LlamaDecoderLayer: 3-6                      (123,910,400)\n",
       "│    │    └─LlamaDecoderLayer: 3-7                      (123,910,400)\n",
       "│    │    └─LlamaDecoderLayer: 3-8                      (123,910,400)\n",
       "│    │    └─LlamaDecoderLayer: 3-9                      (123,910,400)\n",
       "│    │    └─LlamaDecoderLayer: 3-10                     (123,910,400)\n",
       "│    │    └─LlamaDecoderLayer: 3-11                     (123,910,400)\n",
       "│    │    └─LlamaDecoderLayer: 3-12                     (123,910,400)\n",
       "│    │    └─LlamaDecoderLayer: 3-13                     (123,910,400)\n",
       "│    │    └─LlamaDecoderLayer: 3-14                     (123,910,400)\n",
       "│    │    └─LlamaDecoderLayer: 3-15                     (123,910,400)\n",
       "│    │    └─LlamaDecoderLayer: 3-16                     (123,910,400)\n",
       "│    │    └─LlamaDecoderLayer: 3-17                     (123,910,400)\n",
       "│    │    └─LlamaDecoderLayer: 3-18                     (123,910,400)\n",
       "│    │    └─LlamaDecoderLayer: 3-19                     (123,910,400)\n",
       "│    │    └─LlamaDecoderLayer: 3-20                     (123,910,400)\n",
       "│    │    └─LlamaDecoderLayer: 3-21                     (123,910,400)\n",
       "│    │    └─LlamaDecoderLayer: 3-22                     (123,910,400)\n",
       "│    │    └─LlamaDecoderLayer: 3-23                     (123,910,400)\n",
       "│    │    └─LlamaDecoderLayer: 3-24                     (123,910,400)\n",
       "│    │    └─LlamaDecoderLayer: 3-25                     (123,910,400)\n",
       "│    │    └─LlamaDecoderLayer: 3-26                     (123,910,400)\n",
       "│    └─LlamaRMSNorm: 2-3                                (3,200)\n",
       "├─Linear: 1-2                                           (102,400,000)\n",
       "================================================================================\n",
       "Total params: 3,426,473,600\n",
       "Trainable params: 0\n",
       "Non-trainable params: 3,426,473,600\n",
       "================================================================================"
      ]
     },
     "execution_count": 5,
     "metadata": {},
     "output_type": "execute_result"
    }
   ],
   "source": [
    "summary(model)"
   ]
  },
  {
   "cell_type": "code",
   "execution_count": 6,
   "id": "8269dc3b-e74c-4d8e-b4b1-5c238349ed5f",
   "metadata": {},
   "outputs": [],
   "source": [
    "def print_trainable_parameters(model):\n",
    "    \"\"\"\n",
    "    Prints the number of trainable parameters in the model.\n",
    "    \"\"\"\n",
    "    trainable_params = 0\n",
    "    all_param = 0\n",
    "    for _, param in model.named_parameters():\n",
    "        all_param += param.numel()\n",
    "        if param.requires_grad:\n",
    "            trainable_params += param.numel()\n",
    "    print(\n",
    "        f\"trainable params: {trainable_params}\\tall params: {all_param}\\ttrainable%: {100 * trainable_params / all_param}\"\n",
    "    )"
   ]
  },
  {
   "cell_type": "code",
   "execution_count": 7,
   "id": "8c33d244-beb2-486d-9601-7c545b0b08b0",
   "metadata": {},
   "outputs": [
    {
     "name": "stdout",
     "output_type": "stream",
     "text": [
      "trainable params: 0\tall params: 3426473600\ttrainable%: 0.0\n"
     ]
    }
   ],
   "source": [
    "print_trainable_parameters(model)"
   ]
  },
  {
   "cell_type": "code",
   "execution_count": 8,
   "id": "be073167-6a0e-4b63-aa51-f18a0723b326",
   "metadata": {},
   "outputs": [],
   "source": [
    "tokenizer.add_special_tokens({\"pad_token\": \"</s>\"})\n",
    "dataset_train = load_dataset(\"parquet\", data_files=os.path.join(os.getcwd(), os.pardir, \"data\", \"total_data.parquet\"), split=\"train[:90%]\")\n",
    "dataset_valid = load_dataset(\"parquet\", data_files=os.path.join(os.getcwd(), os.pardir, \"data\", \"total_data.parquet\"), split=\"train[90%:]\")"
   ]
  },
  {
   "cell_type": "code",
   "execution_count": 9,
   "id": "e361e879-312b-4e2f-a95a-9502569d6b8a",
   "metadata": {},
   "outputs": [],
   "source": [
    "def tokenization(batch) -> dict:\n",
    "    return tokenizer(\n",
    "        batch[\"text\"],\n",
    "        max_length=MODEL_MAX_LENGTH,\n",
    "        truncation=True,\n",
    "    )"
   ]
  },
  {
   "cell_type": "code",
   "execution_count": 10,
   "id": "bbc5d4b8-752a-4dcb-92d7-546678315927",
   "metadata": {},
   "outputs": [
    {
     "data": {
      "application/vnd.jupyter.widget-view+json": {
       "model_id": "85f380cd039d4b99ae4043323a8818d2",
       "version_major": 2,
       "version_minor": 0
      },
      "text/plain": [
       "Map:   0%|          | 0/20799 [00:00<?, ? examples/s]"
      ]
     },
     "metadata": {},
     "output_type": "display_data"
    },
    {
     "data": {
      "application/vnd.jupyter.widget-view+json": {
       "model_id": "5a8ff78a051a4430a68440ae9b650821",
       "version_major": 2,
       "version_minor": 0
      },
      "text/plain": [
       "Filter:   0%|          | 0/20799 [00:00<?, ? examples/s]"
      ]
     },
     "metadata": {},
     "output_type": "display_data"
    },
    {
     "data": {
      "text/plain": [
       "Dataset({\n",
       "    features: ['dialog', 'text', 'input_ids', 'attention_mask'],\n",
       "    num_rows: 20771\n",
       "})"
      ]
     },
     "execution_count": 10,
     "metadata": {},
     "output_type": "execute_result"
    }
   ],
   "source": [
    "tokenized_dataset_train = dataset_train.map(\n",
    "    tokenization,\n",
    "    batched=True\n",
    "    # remove_columns=[\"instruction\", \"context\", \"response\", \"text\", \"category\"],\n",
    ")\n",
    "tokenized_dataset_train = tokenized_dataset_train.filter(lambda rec: len(rec[\"input_ids\"]) < MODEL_MAX_LENGTH)\n",
    "tokenized_dataset_train"
   ]
  },
  {
   "cell_type": "code",
   "execution_count": 11,
   "id": "602d67da-fe0c-4b27-a483-f98dd2eb3f96",
   "metadata": {},
   "outputs": [
    {
     "data": {
      "application/vnd.jupyter.widget-view+json": {
       "model_id": "b3993c7ea98a495ca1f6a82a1778426a",
       "version_major": 2,
       "version_minor": 0
      },
      "text/plain": [
       "Map:   0%|          | 0/2311 [00:00<?, ? examples/s]"
      ]
     },
     "metadata": {},
     "output_type": "display_data"
    },
    {
     "data": {
      "application/vnd.jupyter.widget-view+json": {
       "model_id": "8ac08c7e19a748648434f468cf41630a",
       "version_major": 2,
       "version_minor": 0
      },
      "text/plain": [
       "Filter:   0%|          | 0/2311 [00:00<?, ? examples/s]"
      ]
     },
     "metadata": {},
     "output_type": "display_data"
    },
    {
     "data": {
      "text/plain": [
       "Dataset({\n",
       "    features: ['dialog', 'text', 'input_ids', 'attention_mask'],\n",
       "    num_rows: 2309\n",
       "})"
      ]
     },
     "execution_count": 11,
     "metadata": {},
     "output_type": "execute_result"
    }
   ],
   "source": [
    "tokenized_dataset_valid = dataset_valid.map(\n",
    "    tokenization,\n",
    "    batched=True\n",
    "    # remove_columns=[\"instruction\", \"context\", \"response\", \"text\", \"category\"],\n",
    ")\n",
    "tokenized_dataset_valid = tokenized_dataset_valid.filter(lambda rec: len(rec[\"input_ids\"]) < MODEL_MAX_LENGTH)\n",
    "tokenized_dataset_valid"
   ]
  },
  {
   "cell_type": "code",
   "execution_count": 12,
   "id": "3bd42d79-6bf7-4619-861e-84537ab9354f",
   "metadata": {},
   "outputs": [],
   "source": [
    "tokenized_dataset = DatasetDict({\"train\": tokenized_dataset_train, \"validation\": tokenized_dataset_valid})"
   ]
  },
  {
   "cell_type": "code",
   "execution_count": 13,
   "id": "f17a2fc1-5aa9-43be-aef9-158143025751",
   "metadata": {},
   "outputs": [],
   "source": [
    "tokenized_dataset = tokenized_dataset.shuffle(seed=47)"
   ]
  },
  {
   "cell_type": "code",
   "execution_count": 14,
   "id": "ab18fad5-198d-46ff-9cb6-310914bc4899",
   "metadata": {},
   "outputs": [],
   "source": [
    "# model.resize_token_embeddings(len(tokenizer))"
   ]
  },
  {
   "cell_type": "code",
   "execution_count": 15,
   "id": "1c492cf5-3466-4f2f-835d-c2f240240f3a",
   "metadata": {},
   "outputs": [
    {
     "name": "stdout",
     "output_type": "stream",
     "text": [
      "trainable params: 2662400\tall params: 3429136000\ttrainable%: 0.07764054852300988\n"
     ]
    }
   ],
   "source": [
    "from peft import LoraConfig, get_peft_model\n",
    "\n",
    "config = LoraConfig(\n",
    "    r=8, # can be 8 with llama\n",
    "    lora_alpha=16, # can be 16 with llama\n",
    "    target_modules=[\"q_proj\", \"v_proj\"],\n",
    "    # target_modules=['lm_head'],\n",
    "    lora_dropout=0.05,\n",
    "    bias=\"none\",\n",
    "    task_type=\"CAUSAL_LM\"\n",
    ")\n",
    "\n",
    "model = get_peft_model(model, config)\n",
    "print_trainable_parameters(model)"
   ]
  },
  {
   "cell_type": "code",
   "execution_count": 16,
   "id": "40547171-64de-4dec-a10e-46c32cca70c1",
   "metadata": {},
   "outputs": [
    {
     "name": "stderr",
     "output_type": "stream",
     "text": [
      "You're using a LlamaTokenizerFast tokenizer. Please note that with a fast tokenizer, using the `__call__` method is faster than using a method to encode the text followed by a call to the `pad` method to get a padded encoding.\n"
     ]
    },
    {
     "data": {
      "text/html": [
       "\n",
       "    <div>\n",
       "      \n",
       "      <progress value='1298' max='1298' style='width:300px; height:20px; vertical-align: middle;'></progress>\n",
       "      [1298/1298 2:41:05, Epoch 1/2]\n",
       "    </div>\n",
       "    <table border=\"1\" class=\"dataframe\">\n",
       "  <thead>\n",
       " <tr style=\"text-align: left;\">\n",
       "      <th>Step</th>\n",
       "      <th>Training Loss</th>\n",
       "      <th>Validation Loss</th>\n",
       "    </tr>\n",
       "  </thead>\n",
       "  <tbody>\n",
       "    <tr>\n",
       "      <td>50</td>\n",
       "      <td>2.073100</td>\n",
       "      <td>1.933362</td>\n",
       "    </tr>\n",
       "    <tr>\n",
       "      <td>100</td>\n",
       "      <td>1.186000</td>\n",
       "      <td>1.200085</td>\n",
       "    </tr>\n",
       "    <tr>\n",
       "      <td>150</td>\n",
       "      <td>1.125800</td>\n",
       "      <td>1.136534</td>\n",
       "    </tr>\n",
       "    <tr>\n",
       "      <td>200</td>\n",
       "      <td>1.038200</td>\n",
       "      <td>1.103335</td>\n",
       "    </tr>\n",
       "    <tr>\n",
       "      <td>250</td>\n",
       "      <td>1.057300</td>\n",
       "      <td>1.088031</td>\n",
       "    </tr>\n",
       "    <tr>\n",
       "      <td>300</td>\n",
       "      <td>1.025700</td>\n",
       "      <td>1.080974</td>\n",
       "    </tr>\n",
       "    <tr>\n",
       "      <td>350</td>\n",
       "      <td>1.066800</td>\n",
       "      <td>1.076182</td>\n",
       "    </tr>\n",
       "    <tr>\n",
       "      <td>400</td>\n",
       "      <td>1.038100</td>\n",
       "      <td>1.072547</td>\n",
       "    </tr>\n",
       "    <tr>\n",
       "      <td>450</td>\n",
       "      <td>1.060600</td>\n",
       "      <td>1.070119</td>\n",
       "    </tr>\n",
       "    <tr>\n",
       "      <td>500</td>\n",
       "      <td>1.079100</td>\n",
       "      <td>1.067931</td>\n",
       "    </tr>\n",
       "    <tr>\n",
       "      <td>550</td>\n",
       "      <td>1.052100</td>\n",
       "      <td>1.065863</td>\n",
       "    </tr>\n",
       "    <tr>\n",
       "      <td>600</td>\n",
       "      <td>1.041600</td>\n",
       "      <td>1.063930</td>\n",
       "    </tr>\n",
       "    <tr>\n",
       "      <td>650</td>\n",
       "      <td>1.017600</td>\n",
       "      <td>1.062961</td>\n",
       "    </tr>\n",
       "    <tr>\n",
       "      <td>700</td>\n",
       "      <td>1.032900</td>\n",
       "      <td>1.061587</td>\n",
       "    </tr>\n",
       "    <tr>\n",
       "      <td>750</td>\n",
       "      <td>1.057200</td>\n",
       "      <td>1.060560</td>\n",
       "    </tr>\n",
       "    <tr>\n",
       "      <td>800</td>\n",
       "      <td>1.026800</td>\n",
       "      <td>1.059950</td>\n",
       "    </tr>\n",
       "    <tr>\n",
       "      <td>850</td>\n",
       "      <td>1.053300</td>\n",
       "      <td>1.058948</td>\n",
       "    </tr>\n",
       "    <tr>\n",
       "      <td>900</td>\n",
       "      <td>1.013700</td>\n",
       "      <td>1.058277</td>\n",
       "    </tr>\n",
       "    <tr>\n",
       "      <td>950</td>\n",
       "      <td>1.003500</td>\n",
       "      <td>1.057669</td>\n",
       "    </tr>\n",
       "    <tr>\n",
       "      <td>1000</td>\n",
       "      <td>1.032900</td>\n",
       "      <td>1.057362</td>\n",
       "    </tr>\n",
       "    <tr>\n",
       "      <td>1050</td>\n",
       "      <td>1.024400</td>\n",
       "      <td>1.056716</td>\n",
       "    </tr>\n",
       "    <tr>\n",
       "      <td>1100</td>\n",
       "      <td>1.047100</td>\n",
       "      <td>1.056288</td>\n",
       "    </tr>\n",
       "    <tr>\n",
       "      <td>1150</td>\n",
       "      <td>1.025200</td>\n",
       "      <td>1.056050</td>\n",
       "    </tr>\n",
       "    <tr>\n",
       "      <td>1200</td>\n",
       "      <td>1.056100</td>\n",
       "      <td>1.056045</td>\n",
       "    </tr>\n",
       "    <tr>\n",
       "      <td>1250</td>\n",
       "      <td>1.061600</td>\n",
       "      <td>1.055902</td>\n",
       "    </tr>\n",
       "  </tbody>\n",
       "</table><p>"
      ],
      "text/plain": [
       "<IPython.core.display.HTML object>"
      ]
     },
     "metadata": {},
     "output_type": "display_data"
    },
    {
     "data": {
      "text/plain": [
       "TrainOutput(global_step=1298, training_loss=1.10738366116728, metrics={'train_runtime': 9679.4186, 'train_samples_per_second': 4.292, 'train_steps_per_second': 0.134, 'total_flos': 2.865227894928e+17, 'train_loss': 1.10738366116728, 'epoch': 2.0})"
      ]
     },
     "execution_count": 16,
     "metadata": {},
     "output_type": "execute_result"
    }
   ],
   "source": [
    "local_output_dir = os.path.join(os.getcwd(), 'models/openllama-v3-test')\n",
    "\n",
    "train_args = TrainingArguments(\n",
    "    per_device_train_batch_size=8, # can be 4 with llama\n",
    "    per_device_eval_batch_size=8, # can be 4 with llama\n",
    "    gradient_accumulation_steps=4,\n",
    "    warmup_steps=20,\n",
    "    optim=\"adamw_torch\",\n",
    "    learning_rate=4e-5, # many possible values here from 1e-5 to 2e-4\n",
    "    fp16=True,\n",
    "    num_train_epochs=2,\n",
    "    evaluation_strategy=\"steps\",\n",
    "    eval_steps=50,\n",
    "    save_strategy=\"steps\",\n",
    "    save_steps=400,\n",
    "    logging_strategy=\"steps\",\n",
    "    logging_steps=10,\n",
    "    logging_dir=f\"{local_output_dir}/runs\",\n",
    "    report_to=\"tensorboard\",\n",
    "    output_dir=local_output_dir\n",
    ")\n",
    "trainer = Trainer(\n",
    "    model=model,\n",
    "    train_dataset=tokenized_dataset['train'],\n",
    "    eval_dataset=tokenized_dataset['validation'],\n",
    "    args=train_args,\n",
    "    data_collator=DataCollatorForLanguageModeling(tokenizer, mlm=False)\n",
    ")\n",
    "\n",
    "model.config.use_cache = False  # silence the warnings. need to be re-enabled on inference\n",
    "trainer.train()"
   ]
  },
  {
   "cell_type": "code",
   "execution_count": 18,
   "id": "ad9bf09e-4453-44a7-8ac1-489d146963fe",
   "metadata": {},
   "outputs": [],
   "source": [
    "model.config.use_cache = True\n",
    "model.save_pretrained(os.path.join(os.getcwd(), os.pardir, \"models\", \"model-test\"))"
   ]
  },
  {
   "cell_type": "code",
   "execution_count": 23,
   "id": "e0137b5b-b532-4a23-b133-eca5b77c01a1",
   "metadata": {},
   "outputs": [
    {
     "name": "stderr",
     "output_type": "stream",
     "text": [
      "D:\\test_task\\ft_llm\\venv\\lib\\site-packages\\transformers\\utils\\hub.py:844: FutureWarning: The `use_auth_token` argument is deprecated and will be removed in v5 of Transformers.\n",
      "  warnings.warn(\n"
     ]
    },
    {
     "data": {
      "application/vnd.jupyter.widget-view+json": {
       "model_id": "bdfa5f52068c43eb849bf659a7177cae",
       "version_major": 2,
       "version_minor": 0
      },
      "text/plain": [
       "adapter_model.bin:   0%|          | 0.00/10.7M [00:00<?, ?B/s]"
      ]
     },
     "metadata": {},
     "output_type": "display_data"
    },
    {
     "data": {
      "text/plain": [
       "CommitInfo(commit_url='https://huggingface.co/xtrbase/positive-llm/commit/fddb7716b166b0078270bbcdf645b7bfeb575486', commit_message='Upload model', commit_description='', oid='fddb7716b166b0078270bbcdf645b7bfeb575486', pr_url=None, pr_revision=None, pr_num=None)"
      ]
     },
     "execution_count": 23,
     "metadata": {},
     "output_type": "execute_result"
    }
   ],
   "source": [
    "model.push_to_hub(f\"xtrbase/positive-llm\", use_auth_token=True)"
   ]
  },
  {
   "cell_type": "code",
   "execution_count": 19,
   "id": "3e599c06-27ee-4ac5-b7fa-8fb7aeabbdb6",
   "metadata": {},
   "outputs": [
    {
     "name": "stdout",
     "output_type": "stream",
     "text": [
      "Mon Sep 18 08:29:43 2023       \n",
      "+---------------------------------------------------------------------------------------+\n",
      "| NVIDIA-SMI 531.14                 Driver Version: 531.14       CUDA Version: 12.1     |\n",
      "|-----------------------------------------+----------------------+----------------------+\n",
      "| GPU  Name                      TCC/WDDM | Bus-Id        Disp.A | Volatile Uncorr. ECC |\n",
      "| Fan  Temp  Perf            Pwr:Usage/Cap|         Memory-Usage | GPU-Util  Compute M. |\n",
      "|                                         |                      |               MIG M. |\n",
      "|=========================================+======================+======================|\n",
      "|   0  NVIDIA GeForce RTX 3090       WDDM | 00000000:01:00.0  On |                  N/A |\n",
      "|  0%   41C    P8               28W / 350W|  15417MiB / 24576MiB |      5%      Default |\n",
      "|                                         |                      |                  N/A |\n",
      "+-----------------------------------------+----------------------+----------------------+\n",
      "                                                                                         \n",
      "+---------------------------------------------------------------------------------------+\n",
      "| Processes:                                                                            |\n",
      "|  GPU   GI   CI        PID   Type   Process name                            GPU Memory |\n",
      "|        ID   ID                                                             Usage      |\n",
      "|=======================================================================================|\n",
      "|    0   N/A  N/A       660    C+G   ...Programs\\Microsoft VS Code\\Code.exe    N/A      |\n",
      "|    0   N/A  N/A      1204    C+G   ...aming\\Telegram Desktop\\Telegram.exe    N/A      |\n",
      "|    0   N/A  N/A      1476    C+G   C:\\Windows\\System32\\dwm.exe               N/A      |\n",
      "|    0   N/A  N/A      5144    C+G   ...5n1h2txyewy\\ShellExperienceHost.exe    N/A      |\n",
      "|    0   N/A  N/A      6560    C+G   ...CBS_cw5n1h2txyewy\\TextInputHost.exe    N/A      |\n",
      "|    0   N/A  N/A      7872    C+G   ...les\\GIGABYTE\\Control Center\\GCC.exe    N/A      |\n",
      "|    0   N/A  N/A      8468    C+G   C:\\Windows\\explorer.exe                   N/A      |\n",
      "|    0   N/A  N/A      9408    C+G   ...2txyewy\\StartMenuExperienceHost.exe    N/A      |\n",
      "|    0   N/A  N/A     11132    C+G   ....Search_cw5n1h2txyewy\\SearchApp.exe    N/A      |\n",
      "|    0   N/A  N/A     12092      C   ...rograms\\Python\\Python310\\python.exe    N/A      |\n",
      "|    0   N/A  N/A     12976    C+G   ...ndexBrowser\\Application\\browser.exe    N/A      |\n",
      "|    0   N/A  N/A     13648    C+G   ...crosoft\\Edge\\Application\\msedge.exe    N/A      |\n",
      "|    0   N/A  N/A     15696    C+G   ...\\Local\\slack\\app-4.34.116\\slack.exe    N/A      |\n",
      "|    0   N/A  N/A     18848    C+G   ...\\Docker\\frontend\\Docker Desktop.exe    N/A      |\n",
      "+---------------------------------------------------------------------------------------+\n"
     ]
    }
   ],
   "source": [
    "!nvidia-smi"
   ]
  },
  {
   "cell_type": "code",
   "execution_count": null,
   "id": "32531e8d-e11e-48eb-a825-cf71b2b6f89d",
   "metadata": {},
   "outputs": [],
   "source": []
  }
 ],
 "metadata": {
  "kernelspec": {
   "display_name": "Python 3 (ipykernel)",
   "language": "python",
   "name": "python3"
  },
  "language_info": {
   "codemirror_mode": {
    "name": "ipython",
    "version": 3
   },
   "file_extension": ".py",
   "mimetype": "text/x-python",
   "name": "python",
   "nbconvert_exporter": "python",
   "pygments_lexer": "ipython3",
   "version": "3.10.9"
  }
 },
 "nbformat": 4,
 "nbformat_minor": 5
}
